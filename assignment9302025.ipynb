{
 "cells": [
  {
   "cell_type": "code",
   "execution_count": 1,
   "id": "87b9d8a2",
   "metadata": {},
   "outputs": [
    {
     "name": "stdout",
     "output_type": "stream",
     "text": [
      "2389403\n"
     ]
    }
   ],
   "source": [
    "print(input()[::-1])"
   ]
  },
  {
   "cell_type": "code",
   "execution_count": null,
   "id": "14c0a4f0",
   "metadata": {},
   "outputs": [
    {
     "name": "stdout",
     "output_type": "stream",
     "text": [
      "2234234 234234\n"
     ]
    }
   ],
   "source": [
    "a,b = map(int, input().split()); print(a ^ b ^ a, a ^ b ^b)"
   ]
  },
  {
   "cell_type": "code",
   "execution_count": 16,
   "id": "25a47fbc",
   "metadata": {},
   "outputs": [
    {
     "name": "stdout",
     "output_type": "stream",
     "text": [
      "True\n"
     ]
    }
   ],
   "source": [
    "n = int(input()); print(True if ((n == 2 or (n & (n -1) == 0)) and n != 1) else False)"
   ]
  },
  {
   "cell_type": "code",
   "execution_count": 21,
   "id": "47871535",
   "metadata": {},
   "outputs": [
    {
     "name": "stdout",
     "output_type": "stream",
     "text": [
      "51\n"
     ]
    }
   ],
   "source": [
    "a,b = map(int, input().split()); print(a // b)"
   ]
  },
  {
   "cell_type": "code",
   "execution_count": 25,
   "id": "12bbb0d2",
   "metadata": {},
   "outputs": [
    {
     "name": "stdout",
     "output_type": "stream",
     "text": [
      "1221\n"
     ]
    }
   ],
   "source": [
    "a ,b = map(int, input().split()); n = a / b; print(int(n) + (True if (n % 1 != 0 ) else False))"
   ]
  },
  {
   "cell_type": "code",
   "execution_count": 28,
   "id": "286bbd5e",
   "metadata": {},
   "outputs": [
    {
     "name": "stdout",
     "output_type": "stream",
     "text": [
      "Odd\n"
     ]
    }
   ],
   "source": [
    "print(\"Even\" if int(input()) & 1 == 0 else \"Odd\")"
   ]
  },
  {
   "cell_type": "code",
   "execution_count": 35,
   "id": "df320922",
   "metadata": {},
   "outputs": [
    {
     "name": "stdout",
     "output_type": "stream",
     "text": [
      "NO\n"
     ]
    }
   ],
   "source": [
    "a = int(input()); b = int(input())\n",
    "print(\"YNEOS\"[False if a < 0 and b < 0 else True::2])"
   ]
  },
  {
   "cell_type": "code",
   "execution_count": 41,
   "id": "4e535d06",
   "metadata": {},
   "outputs": [
    {
     "name": "stdout",
     "output_type": "stream",
     "text": [
      "False\n"
     ]
    }
   ],
   "source": [
    "a = len(input()); b = len(input())\n",
    "print(True if a > b else False)"
   ]
  },
  {
   "cell_type": "code",
   "execution_count": 51,
   "id": "c693dcb2",
   "metadata": {},
   "outputs": [
    {
     "name": "stdout",
     "output_type": "stream",
     "text": [
      "No\n"
     ]
    }
   ],
   "source": [
    "a = [int(input()), int(input()), int(input())]\n",
    "a.sort(reverse=True)\n",
    "print(\"Yes\" if a[1] + a[2] > a[0] else \"No\")"
   ]
  },
  {
   "cell_type": "code",
   "execution_count": 52,
   "id": "340c2012",
   "metadata": {},
   "outputs": [
    {
     "name": "stdout",
     "output_type": "stream",
     "text": [
      "3123\n"
     ]
    }
   ],
   "source": [
    "print(max([int(input()), int(input()), int(input()), int(input())]))"
   ]
  },
  {
   "cell_type": "code",
   "execution_count": null,
   "id": "b66ef7c6",
   "metadata": {},
   "outputs": [],
   "source": [
    "a = [i for i in map(int, input().split())]\n",
    "a.sort(reverse=True)\n",
    "if a[1] + a[2] > a[0]:\n",
    "    if a[1] == a[2] and a[2] == a[0]:\n",
    "        print(\"Tam Giac Deu\")\n",
    "    elif a[1] == a[2] or a[1] == a[0] or a[0] == a[2]:\n",
    "        print(\"Tam Giac Can\")\n",
    "    else:\n",
    "        print(\"Tam Giac Thuong\")\n",
    "else:\n",
    "    print(\"Khong Phai Tam Giac\")"
   ]
  },
  {
   "cell_type": "code",
   "execution_count": null,
   "id": "f7054247",
   "metadata": {},
   "outputs": [],
   "source": [
    "a = int(input())\n",
    "print(\"Yes\" if (a % 4 == 0 and a % 100 != 0) else \"No\")"
   ]
  },
  {
   "cell_type": "code",
   "execution_count": 57,
   "id": "58a7f697",
   "metadata": {},
   "outputs": [
    {
     "name": "stdout",
     "output_type": "stream",
     "text": [
      "175000\n"
     ]
    }
   ],
   "source": [
    "n = int(input())\n",
    "print(max(0, min(n, 50)) * 1500 + max(0, min(n - 50, 50)) * 2000 + max(0, n - 100) * 3000)"
   ]
  },
  {
   "cell_type": "code",
   "execution_count": 66,
   "id": "4db0b7f4",
   "metadata": {},
   "outputs": [
    {
     "name": "stdout",
     "output_type": "stream",
     "text": [
      "-430.87\n"
     ]
    }
   ],
   "source": [
    "a, b = float(input()), float(input())\n",
    "if a == 0:\n",
    "    if b == 0:\n",
    "        print(\"Vo so nghiem\")\n",
    "    else:\n",
    "        print(\"Vo nghiem\")\n",
    "else:\n",
    "    print(round((-b)/a, 2))"
   ]
  },
  {
   "cell_type": "code",
   "execution_count": 71,
   "id": "48c708bc",
   "metadata": {},
   "outputs": [
    {
     "name": "stdout",
     "output_type": "stream",
     "text": [
      "Yeu\n"
     ]
    }
   ],
   "source": [
    "n = float(input())\n",
    "if n >= 8:\n",
    "    print(\"Gioi\")\n",
    "elif n >= 6.5:\n",
    "    print(\"Kha\")\n",
    "elif n >= 5:\n",
    "    print(\"Trung Binh\")\n",
    "else:\n",
    "    print(\"Yeu\")"
   ]
  },
  {
   "cell_type": "code",
   "execution_count": null,
   "id": "db00bcb1",
   "metadata": {},
   "outputs": [
    {
     "name": "stdout",
     "output_type": "stream",
     "text": [
      "9.0 9.0 9.0\n"
     ]
    }
   ],
   "source": [
    "a = float(input())\n",
    "if a % 1 == 0:\n",
    "    print(int(a), int(a), int(a))\n",
    "elif a < 0:\n",
    "    print(int(a), int(a - 1), int(a - 1) if a % 1 <= 0.5 else int(a))\n",
    "else:\n",
    "    print(int(a + 1), int(a), int(a + 1) if a % 1 >= 0.5 else int(a))"
   ]
  }
 ],
 "metadata": {
  "kernelspec": {
   "display_name": "Python 3",
   "language": "python",
   "name": "python3"
  },
  "language_info": {
   "codemirror_mode": {
    "name": "ipython",
    "version": 3
   },
   "file_extension": ".py",
   "mimetype": "text/x-python",
   "name": "python",
   "nbconvert_exporter": "python",
   "pygments_lexer": "ipython3",
   "version": "3.13.7"
  }
 },
 "nbformat": 4,
 "nbformat_minor": 5
}
